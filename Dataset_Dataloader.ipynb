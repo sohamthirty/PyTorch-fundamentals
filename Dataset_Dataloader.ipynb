{
 "cells": [
  {
   "cell_type": "code",
   "execution_count": 26,
   "id": "582ac72a",
   "metadata": {
    "ExecuteTime": {
     "end_time": "2023-07-11T04:16:20.236630Z",
     "start_time": "2023-07-11T04:16:20.234301Z"
    }
   },
   "outputs": [],
   "source": [
    "# time-consuming to do gradient calculatuions on training data of large datasets\n",
    "# divide samples into smaller batches\n",
    "# loop over epoch: loop over batches -> optimization based only on the batches"
   ]
  },
  {
   "cell_type": "code",
   "execution_count": 27,
   "id": "bf9e2372",
   "metadata": {
    "ExecuteTime": {
     "end_time": "2023-07-11T04:16:20.241655Z",
     "start_time": "2023-07-11T04:16:20.238641Z"
    }
   },
   "outputs": [],
   "source": [
    "# epoch = one forward and backward pass of ALL training samples\n",
    "# batch_size = number of training samples used in one forward/backward pass\n",
    "# number of iterations = number of passes, each pass (forward+backward) using [batch_size] number of samples\n",
    "# e.g : 100 samples, batch_size=20 -> 100/20=5 iterations for 1 epoch"
   ]
  },
  {
   "cell_type": "code",
   "execution_count": 28,
   "id": "b5b7ce13",
   "metadata": {
    "ExecuteTime": {
     "end_time": "2023-07-11T04:16:20.247580Z",
     "start_time": "2023-07-11T04:16:20.243230Z"
    }
   },
   "outputs": [],
   "source": [
    "import torch\n",
    "import torchvision\n",
    "\n",
    "from torch.utils.data import Dataset, DataLoader\n",
    "\n",
    "import numpy as np\n",
    "import math"
   ]
  },
  {
   "cell_type": "code",
   "execution_count": 29,
   "id": "c18e4bcd",
   "metadata": {
    "ExecuteTime": {
     "end_time": "2023-07-11T04:16:20.259225Z",
     "start_time": "2023-07-11T04:16:20.253590Z"
    }
   },
   "outputs": [],
   "source": [
    "# Dataset class\n",
    "class WineDataset(Dataset):\n",
    "    \n",
    "    def __init__(self):\n",
    "        # data loading\n",
    "        xy = np.loadtxt('./Data/wine.csv', delimiter=',', dtype = np.float32, skiprows=1)\n",
    "        self.x = torch.from_numpy(xy[:,1:])\n",
    "        self.y = torch.from_numpy(xy[:,[0]]) # (n_samples, 1)\n",
    "        self.n_samples = xy.shape[0]\n",
    "        \n",
    "    def __getitem__(self, index):\n",
    "        # allow for indexing: dataset[0]\n",
    "        return self.x[index], self.y[index]\n",
    "        \n",
    "    def __len__(self):\n",
    "        # len(dataset)\n",
    "        return self.n_samples"
   ]
  },
  {
   "cell_type": "code",
   "execution_count": 30,
   "id": "f5d84249",
   "metadata": {
    "ExecuteTime": {
     "end_time": "2023-07-11T04:16:20.268841Z",
     "start_time": "2023-07-11T04:16:20.261231Z"
    }
   },
   "outputs": [
    {
     "name": "stdout",
     "output_type": "stream",
     "text": [
      "tensor([1.4230e+01, 1.7100e+00, 2.4300e+00, 1.5600e+01, 1.2700e+02, 2.8000e+00,\n",
      "        3.0600e+00, 2.8000e-01, 2.2900e+00, 5.6400e+00, 1.0400e+00, 3.9200e+00,\n",
      "        1.0650e+03]) tensor([1.])\n"
     ]
    }
   ],
   "source": [
    "# get the dataset\n",
    "dataset = WineDataset()\n",
    "\n",
    "first_data = dataset[0]\n",
    "features, labels = first_data\n",
    "print(features, labels)"
   ]
  },
  {
   "cell_type": "code",
   "execution_count": 31,
   "id": "0b3fe75b",
   "metadata": {
    "ExecuteTime": {
     "end_time": "2023-07-11T04:16:20.274388Z",
     "start_time": "2023-07-11T04:16:20.269855Z"
    }
   },
   "outputs": [],
   "source": [
    "# the dataloader\n",
    "dataloader = DataLoader(dataset=dataset, batch_size=4, shuffle=True)"
   ]
  },
  {
   "cell_type": "code",
   "execution_count": 32,
   "id": "86634e40",
   "metadata": {
    "ExecuteTime": {
     "end_time": "2023-07-11T04:16:20.285890Z",
     "start_time": "2023-07-11T04:16:20.277398Z"
    }
   },
   "outputs": [
    {
     "name": "stdout",
     "output_type": "stream",
     "text": [
      "tensor([[1.3230e+01, 3.3000e+00, 2.2800e+00, 1.8500e+01, 9.8000e+01, 1.8000e+00,\n",
      "         8.3000e-01, 6.1000e-01, 1.8700e+00, 1.0520e+01, 5.6000e-01, 1.5100e+00,\n",
      "         6.7500e+02],\n",
      "        [1.2080e+01, 1.8300e+00, 2.3200e+00, 1.8500e+01, 8.1000e+01, 1.6000e+00,\n",
      "         1.5000e+00, 5.2000e-01, 1.6400e+00, 2.4000e+00, 1.0800e+00, 2.2700e+00,\n",
      "         4.8000e+02],\n",
      "        [1.1450e+01, 2.4000e+00, 2.4200e+00, 2.0000e+01, 9.6000e+01, 2.9000e+00,\n",
      "         2.7900e+00, 3.2000e-01, 1.8300e+00, 3.2500e+00, 8.0000e-01, 3.3900e+00,\n",
      "         6.2500e+02],\n",
      "        [1.3560e+01, 1.7100e+00, 2.3100e+00, 1.6200e+01, 1.1700e+02, 3.1500e+00,\n",
      "         3.2900e+00, 3.4000e-01, 2.3400e+00, 6.1300e+00, 9.5000e-01, 3.3800e+00,\n",
      "         7.9500e+02]]) tensor([[3.],\n",
      "        [2.],\n",
      "        [2.],\n",
      "        [1.]])\n"
     ]
    }
   ],
   "source": [
    "# convert to iterator\n",
    "dataiter = iter(dataloader)\n",
    "data = next(dataiter)\n",
    "features, labels = data\n",
    "print(features, labels)"
   ]
  },
  {
   "cell_type": "code",
   "execution_count": 33,
   "id": "ddd25544",
   "metadata": {
    "ExecuteTime": {
     "end_time": "2023-07-11T04:18:05.568624Z",
     "start_time": "2023-07-11T04:18:05.564490Z"
    }
   },
   "outputs": [
    {
     "name": "stdout",
     "output_type": "stream",
     "text": [
      "178 45\n"
     ]
    }
   ],
   "source": [
    "# training loop\n",
    "num_epochs = 2\n",
    "total_samples = len(dataset)\n",
    "n_iterations = math.ceil(total_samples/4)\n",
    "print(total_samples, n_iterations)"
   ]
  },
  {
   "cell_type": "code",
   "execution_count": 35,
   "id": "ba400d79",
   "metadata": {
    "ExecuteTime": {
     "end_time": "2023-07-11T04:21:56.183616Z",
     "start_time": "2023-07-11T04:21:56.173687Z"
    }
   },
   "outputs": [
    {
     "name": "stdout",
     "output_type": "stream",
     "text": [
      "Epoch 1, step 5/45, inputs: torch.Size([4, 13])\n",
      "Epoch 1, step 10/45, inputs: torch.Size([4, 13])\n",
      "Epoch 1, step 15/45, inputs: torch.Size([4, 13])\n",
      "Epoch 1, step 20/45, inputs: torch.Size([4, 13])\n",
      "Epoch 1, step 25/45, inputs: torch.Size([4, 13])\n",
      "Epoch 1, step 30/45, inputs: torch.Size([4, 13])\n",
      "Epoch 1, step 35/45, inputs: torch.Size([4, 13])\n",
      "Epoch 1, step 40/45, inputs: torch.Size([4, 13])\n",
      "Epoch 1, step 45/45, inputs: torch.Size([2, 13])\n",
      "Epoch 2, step 5/45, inputs: torch.Size([4, 13])\n",
      "Epoch 2, step 10/45, inputs: torch.Size([4, 13])\n",
      "Epoch 2, step 15/45, inputs: torch.Size([4, 13])\n",
      "Epoch 2, step 20/45, inputs: torch.Size([4, 13])\n",
      "Epoch 2, step 25/45, inputs: torch.Size([4, 13])\n",
      "Epoch 2, step 30/45, inputs: torch.Size([4, 13])\n",
      "Epoch 2, step 35/45, inputs: torch.Size([4, 13])\n",
      "Epoch 2, step 40/45, inputs: torch.Size([4, 13])\n",
      "Epoch 2, step 45/45, inputs: torch.Size([2, 13])\n"
     ]
    }
   ],
   "source": [
    "for epoch in range(num_epochs):\n",
    "    for i, (inputs, labels) in enumerate(dataloader):\n",
    "        # forward pass\n",
    "        \n",
    "        # backward pass\n",
    "        \n",
    "        # update\n",
    "        \n",
    "        if (i+1)%5 == 0:\n",
    "            print('Epoch {}, step {}/{}, inputs: {}'.format(epoch+1, i+1, n_iterations, inputs.shape))\n",
    "            \n",
    "# 2 Epochs, each step has [4,13]"
   ]
  },
  {
   "cell_type": "code",
   "execution_count": 37,
   "id": "c143b255",
   "metadata": {
    "ExecuteTime": {
     "end_time": "2023-07-11T04:24:10.829755Z",
     "start_time": "2023-07-11T04:24:10.790099Z"
    }
   },
   "outputs": [],
   "source": [
    "# some famous datasets are available in torchvision.datasets\n",
    "# e.g. MNIST, Fashion-MNIST, CIFAR10, COCO\n",
    "\n",
    "train_dataset = torchvision.datasets.MNIST(root='./Data', train=True, transform=torchvision.transforms.ToTensor(), download=True)\n",
    "\n",
    "train_loader = DataLoader(dataset=train_dataset, batch_size=3, shuffle=True)"
   ]
  },
  {
   "cell_type": "code",
   "execution_count": null,
   "id": "a949249c",
   "metadata": {},
   "outputs": [],
   "source": []
  }
 ],
 "metadata": {
  "kernelspec": {
   "display_name": "pytorch1",
   "language": "python",
   "name": "pytorch1"
  },
  "language_info": {
   "codemirror_mode": {
    "name": "ipython",
    "version": 3
   },
   "file_extension": ".py",
   "mimetype": "text/x-python",
   "name": "python",
   "nbconvert_exporter": "python",
   "pygments_lexer": "ipython3",
   "version": "3.11.4"
  }
 },
 "nbformat": 4,
 "nbformat_minor": 5
}
