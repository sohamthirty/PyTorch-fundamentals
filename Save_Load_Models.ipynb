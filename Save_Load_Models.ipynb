{
 "cells": [
  {
   "cell_type": "code",
   "execution_count": 1,
   "id": "b9b42651",
   "metadata": {
    "ExecuteTime": {
     "end_time": "2023-07-19T04:21:42.776651Z",
     "start_time": "2023-07-19T04:21:42.772340Z"
    }
   },
   "outputs": [],
   "source": [
    "import torch\n",
    "import torch.nn as nn"
   ]
  },
  {
   "cell_type": "code",
   "execution_count": null,
   "id": "e2794838",
   "metadata": {},
   "outputs": [],
   "source": [
    "## Lazy option\n",
    "# complete model\n",
    "torch.save(model, PATH) # tensor, dictionary, models  \n",
    "# uses Pickle to serialize them\n",
    "\n",
    "# model class must be defined somewhere\n",
    "model = torch.load(PATH)\n",
    "model.eval()"
   ]
  },
  {
   "cell_type": "code",
   "execution_count": null,
   "id": "8e3c9464",
   "metadata": {},
   "outputs": [],
   "source": [
    "## Recommended option\n",
    "# state dict\n",
    "torch.save(model.state_dict(), PATH)\n",
    "\n",
    "# model must be created again with parameters\n",
    "model = Model(*args, **kwargs)\n",
    "model.load_state_dict(torch.load(PATH))\n",
    "model.eval()"
   ]
  },
  {
   "cell_type": "code",
   "execution_count": 2,
   "id": "2dac88c9",
   "metadata": {
    "ExecuteTime": {
     "end_time": "2023-07-19T04:28:19.694273Z",
     "start_time": "2023-07-19T04:28:19.669189Z"
    }
   },
   "outputs": [],
   "source": [
    "# the model\n",
    "class Model(nn.Module):\n",
    "    def __init__(self, n_input_features):\n",
    "        super(Model, self).__init__()\n",
    "        self.linear = nn.Linear(n_input_features, 1)\n",
    "\n",
    "    def forward(self, x):\n",
    "        y_pred = torch.sigmoid(self.linear(x))\n",
    "        return y_pred\n",
    "\n",
    "model = Model(n_input_features=6)"
   ]
  },
  {
   "cell_type": "code",
   "execution_count": 5,
   "id": "288aa5ed",
   "metadata": {
    "ExecuteTime": {
     "end_time": "2023-07-19T04:30:54.306283Z",
     "start_time": "2023-07-19T04:30:54.244420Z"
    }
   },
   "outputs": [
    {
     "name": "stdout",
     "output_type": "stream",
     "text": [
      "Parameter containing:\n",
      "tensor([[-0.3763, -0.2753, -0.2828,  0.1923,  0.0678, -0.0012]],\n",
      "       requires_grad=True)\n",
      "Parameter containing:\n",
      "tensor([-0.3032], requires_grad=True)\n"
     ]
    }
   ],
   "source": [
    "## LAZY WAY - complete mode;\n",
    "# train your model\n",
    "FILE = 'model.pth'\n",
    "torch.save(model, FILE)\n",
    "\n",
    "# load the model\n",
    "model = torch.load(FILE)\n",
    "model.eval()\n",
    "\n",
    "for param in model.parameters():\n",
    "    print(param)"
   ]
  },
  {
   "cell_type": "code",
   "execution_count": 8,
   "id": "d58394d9",
   "metadata": {
    "ExecuteTime": {
     "end_time": "2023-07-19T04:35:51.828652Z",
     "start_time": "2023-07-19T04:35:51.819957Z"
    }
   },
   "outputs": [
    {
     "name": "stdout",
     "output_type": "stream",
     "text": [
      "Parameter containing:\n",
      "tensor([[-0.3763, -0.2753, -0.2828,  0.1923,  0.0678, -0.0012]],\n",
      "       requires_grad=True)\n",
      "Parameter containing:\n",
      "tensor([-0.3032], requires_grad=True)\n",
      "OrderedDict([('linear.weight', tensor([[-0.3763, -0.2753, -0.2828,  0.1923,  0.0678, -0.0012]])), ('linear.bias', tensor([-0.3032]))])\n"
     ]
    }
   ],
   "source": [
    "## RECOMMENDED WAY - state_dict()\n",
    "FILE = 'model_state_dict.pth'\n",
    "torch.save(model.state_dict(), FILE)\n",
    "\n",
    "# model must be created again with parameters\n",
    "loaded_model = Model(n_input_features=6)\n",
    "loaded_model.load_state_dict(torch.load(FILE))\n",
    "loaded_model.eval()\n",
    "\n",
    "for param in model.parameters():\n",
    "    print(param)\n",
    "    \n",
    "    \n",
    "print(model.state_dict())"
   ]
  },
  {
   "cell_type": "code",
   "execution_count": 16,
   "id": "79a7af98",
   "metadata": {
    "ExecuteTime": {
     "end_time": "2023-07-19T04:43:13.987235Z",
     "start_time": "2023-07-19T04:43:13.980422Z"
    }
   },
   "outputs": [
    {
     "name": "stdout",
     "output_type": "stream",
     "text": [
      "{'state': {}, 'param_groups': [{'lr': 0.01, 'momentum': 0, 'dampening': 0, 'weight_decay': 0, 'nesterov': False, 'maximize': False, 'foreach': None, 'differentiable': False, 'params': [0, 1]}]}\n",
      "{'state': {}, 'param_groups': [{'lr': 0.01, 'momentum': 0, 'dampening': 0, 'weight_decay': 0, 'nesterov': False, 'maximize': False, 'foreach': None, 'differentiable': False, 'params': [0, 1]}]}\n"
     ]
    }
   ],
   "source": [
    "## CHECKPOINTS\n",
    "\n",
    "learning_rate = 0.01\n",
    "optimizer = torch.optim.SGD(model.parameters(), lr=learning_rate)\n",
    "print(optimizer.state_dict())\n",
    "\n",
    "\n",
    "checkpoint = {\n",
    "    \"epoch\": 90,\n",
    "    \"model_state\": model.state_dict(),\n",
    "    \"optim_state\": optimizer.state_dict()\n",
    "}\n",
    "\n",
    "# torch.save(checkpoint, \"checkpoint.pth\")\n",
    "\n",
    "loaded_checkpoint = torch.load('checkpoint.pth')\n",
    "epoch = loaded_checkpoint['epoch']\n",
    "\n",
    "model = Model(n_input_features=6)\n",
    "optimizer = torch.optim.SGD(model.parameters(), lr=0)\n",
    "\n",
    "model.load_state_dict(checkpoint['model_state'])\n",
    "optimizer.load_state_dict(checkpoint['optim_state'])\n",
    "\n",
    "print(optimizer.state_dict())"
   ]
  },
  {
   "cell_type": "code",
   "execution_count": null,
   "id": "74db4dd9",
   "metadata": {},
   "outputs": [],
   "source": [
    "\"\"\" SAVING ON GPU/CPU \n",
    "\n",
    "# 1) Save on GPU, Load on CPU\n",
    "device = torch.device(\"cuda\")\n",
    "model.to(device)\n",
    "torch.save(model.state_dict(), PATH)\n",
    "\n",
    "device = torch.device('cpu')\n",
    "model = Model(*args, **kwargs)\n",
    "model.load_state_dict(torch.load(PATH, map_location=device))\n",
    "\n",
    "# 2) Save on GPU, Load on GPU\n",
    "device = torch.device(\"cuda\")\n",
    "model.to(device)\n",
    "torch.save(model.state_dict(), PATH)\n",
    "\n",
    "model = Model(*args, **kwargs)\n",
    "model.load_state_dict(torch.load(PATH))\n",
    "model.to(device)\n",
    "\n",
    "# Note: Be sure to use the .to(torch.device('cuda')) function \n",
    "# on all model inputs, too!\n",
    "\n",
    "# 3) Save on CPU, Load on GPU\n",
    "torch.save(model.state_dict(), PATH)\n",
    "\n",
    "device = torch.device(\"cuda\")\n",
    "model = Model(*args, **kwargs)\n",
    "model.load_state_dict(torch.load(PATH, map_location=\"cuda:0\"))  # Choose whatever GPU device number you want\n",
    "model.to(device)\n",
    "\n",
    "# This loads the model to a given GPU device. \n",
    "# Next, be sure to call model.to(torch.device('cuda')) to convert the model’s parameter tensors to CUDA tensors\n",
    "\"\"\""
   ]
  }
 ],
 "metadata": {
  "kernelspec": {
   "display_name": "pytorch1",
   "language": "python",
   "name": "pytorch1"
  },
  "language_info": {
   "codemirror_mode": {
    "name": "ipython",
    "version": 3
   },
   "file_extension": ".py",
   "mimetype": "text/x-python",
   "name": "python",
   "nbconvert_exporter": "python",
   "pygments_lexer": "ipython3",
   "version": "3.11.4"
  }
 },
 "nbformat": 4,
 "nbformat_minor": 5
}
