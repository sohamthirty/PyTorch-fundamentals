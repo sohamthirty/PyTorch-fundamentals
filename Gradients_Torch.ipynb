{
 "cells": [
  {
   "cell_type": "code",
   "execution_count": 24,
   "id": "6c036956",
   "metadata": {
    "ExecuteTime": {
     "end_time": "2023-07-10T19:49:08.971386Z",
     "start_time": "2023-07-10T19:49:08.968822Z"
    }
   },
   "outputs": [],
   "source": [
    "import torch\n",
    "import numpy as np"
   ]
  },
  {
   "cell_type": "code",
   "execution_count": 25,
   "id": "70fbdda2",
   "metadata": {
    "ExecuteTime": {
     "end_time": "2023-07-10T19:49:08.976033Z",
     "start_time": "2023-07-10T19:49:08.972391Z"
    }
   },
   "outputs": [],
   "source": [
    "# f = w*x\n",
    "# f = 2*x\n",
    "\n",
    "X = torch.tensor([1,2,3,4], dtype=torch.float32)\n",
    "Y = torch.tensor([2,4,6,8], dtype=torch.float32)\n",
    "\n",
    "# we are interested in the gradient of the loss with respect to w\n",
    "w = torch.tensor(0.0, dtype=torch.float32, requires_grad=True)"
   ]
  },
  {
   "cell_type": "code",
   "execution_count": 26,
   "id": "307d5363",
   "metadata": {
    "ExecuteTime": {
     "end_time": "2023-07-10T19:49:08.982374Z",
     "start_time": "2023-07-10T19:49:08.978038Z"
    }
   },
   "outputs": [
    {
     "name": "stdout",
     "output_type": "stream",
     "text": [
      "Prediction before training : f(20) = 0.000\n"
     ]
    }
   ],
   "source": [
    "# model prediction\n",
    "def forward(x):\n",
    "    return w*x\n",
    "\n",
    "# loss MSE\n",
    "def loss(y, y_pred):\n",
    "    return ((y_pred - y)**2).mean()\n",
    "\n",
    "print('Prediction before training : f(20) = {:.3f}'.format(forward(5)))"
   ]
  },
  {
   "cell_type": "code",
   "execution_count": 27,
   "id": "2d1aa091",
   "metadata": {
    "ExecuteTime": {
     "end_time": "2023-07-10T19:49:08.998875Z",
     "start_time": "2023-07-10T19:49:08.985412Z"
    }
   },
   "outputs": [
    {
     "name": "stdout",
     "output_type": "stream",
     "text": [
      "Epoch 1: w = 0.300, loss = 30.00000000\n",
      "Epoch 21: w = 1.934, loss = 0.04506890\n",
      "Epoch 41: w = 1.997, loss = 0.00006770\n",
      "Prediction after training : f(60) = 9.997\n"
     ]
    }
   ],
   "source": [
    "# Training\n",
    "learning_rate = 0.01\n",
    "n_iters = 50\n",
    "\n",
    "for epoch in range(n_iters):\n",
    "    # prediction = forward pass\n",
    "    y_pred = forward(X)\n",
    "    \n",
    "    # loss\n",
    "    l = loss(Y, y_pred)\n",
    "    \n",
    "    # gradients = backward pass\n",
    "    l.backward() # dl/dw\n",
    "    \n",
    "    # update weights\n",
    "    # not a part of Computational Graph\n",
    "    with torch.no_grad():\n",
    "        w -= learning_rate*w.grad\n",
    "        \n",
    "    # zero gradients\n",
    "    w.grad.zero_()\n",
    "    \n",
    "    if epoch%20 == 0:\n",
    "        print('Epoch {}: w = {:.3f}, loss = {:.8f}'.format(epoch+1, w, l))\n",
    "        \n",
    "print('Prediction after training : f(60) = {:.3f}'.format(forward(5)))\n",
    "\n",
    "# less accurate, because autograd back-propogation is not as exact as the numeric gradient"
   ]
  }
 ],
 "metadata": {
  "kernelspec": {
   "display_name": "pytorch1",
   "language": "python",
   "name": "pytorch1"
  },
  "language_info": {
   "codemirror_mode": {
    "name": "ipython",
    "version": 3
   },
   "file_extension": ".py",
   "mimetype": "text/x-python",
   "name": "python",
   "nbconvert_exporter": "python",
   "pygments_lexer": "ipython3",
   "version": "3.11.4"
  }
 },
 "nbformat": 4,
 "nbformat_minor": 5
}
