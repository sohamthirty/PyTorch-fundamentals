{
 "cells": [
  {
   "cell_type": "code",
   "execution_count": 1,
   "id": "65b82760",
   "metadata": {
    "ExecuteTime": {
     "end_time": "2023-07-09T02:22:23.354027Z",
     "start_time": "2023-07-09T02:22:20.022037Z"
    }
   },
   "outputs": [],
   "source": [
    "import torch"
   ]
  },
  {
   "cell_type": "code",
   "execution_count": 8,
   "id": "f4804780",
   "metadata": {
    "ExecuteTime": {
     "end_time": "2023-07-07T22:39:01.943547Z",
     "start_time": "2023-07-07T22:39:01.937458Z"
    }
   },
   "outputs": [
    {
     "name": "stdout",
     "output_type": "stream",
     "text": [
      "tensor([ 0.5419,  0.4476, -1.1255], requires_grad=True)\n",
      "tensor([2.5419, 2.4476, 0.8745], grad_fn=<AddBackward0>)\n",
      "tensor([12.9228, 11.9819,  1.5297], grad_fn=<MulBackward0>)\n"
     ]
    }
   ],
   "source": [
    "# random numbers from a normal distribution with mean `0` and variance `1`\n",
    "x = torch.randn(3, requires_grad=True) # creates a computational graph to calculate gradients in BackPropogation\n",
    "print(x)\n",
    "\n",
    "y = x+2\n",
    "print(y)\n",
    "\n",
    "z = y*y*2\n",
    "print(z)\n",
    "\n",
    "# z = z.mean()\n",
    "# print(z)"
   ]
  },
  {
   "cell_type": "code",
   "execution_count": 10,
   "id": "e29197c0",
   "metadata": {
    "ExecuteTime": {
     "end_time": "2023-07-07T22:41:14.097521Z",
     "start_time": "2023-07-07T22:41:14.090612Z"
    }
   },
   "outputs": [
    {
     "name": "stdout",
     "output_type": "stream",
     "text": [
      "tensor([1.0168e+00, 9.7906e+00, 3.4982e-03])\n"
     ]
    }
   ],
   "source": [
    "v = torch.tensor([0.1, 1.0, 0.001], dtype=torch.float32)\n",
    "z.backward(v) # dz/dx (gradients of z with respect to x)  \n",
    "# z.backward() # SCALAR --> RuntimeError: grad can be implicitly created only for scalar outputs\n",
    "print(x.grad) # values for Vector Jacobian Product"
   ]
  },
  {
   "cell_type": "code",
   "execution_count": 17,
   "id": "343558a5",
   "metadata": {
    "ExecuteTime": {
     "end_time": "2023-07-07T22:45:24.865491Z",
     "start_time": "2023-07-07T22:45:24.859018Z"
    }
   },
   "outputs": [
    {
     "name": "stdout",
     "output_type": "stream",
     "text": [
      "tensor([1.9336, 0.9268, 0.1436], requires_grad=True)\n"
     ]
    },
    {
     "data": {
      "text/plain": [
       "tensor([1.9336, 0.9268, 0.1436])"
      ]
     },
     "execution_count": 17,
     "metadata": {},
     "output_type": "execute_result"
    }
   ],
   "source": [
    "x = torch.randn(3, requires_grad=True)\n",
    "print(x)\n",
    "\n",
    "x.requires_grad_(False)\n",
    "# y = x.detach()\n",
    "# with torch.no_grad():\n",
    "#     y = x+2\n",
    "\n",
    "# print(x)"
   ]
  },
  {
   "cell_type": "code",
   "execution_count": 2,
   "id": "c2ac5564",
   "metadata": {
    "ExecuteTime": {
     "end_time": "2023-07-09T02:22:24.999781Z",
     "start_time": "2023-07-09T02:22:24.891202Z"
    }
   },
   "outputs": [
    {
     "name": "stdout",
     "output_type": "stream",
     "text": [
      "tensor([1., 1., 1., 1.], requires_grad=True)\n",
      "tensor(12., grad_fn=<SumBackward0>)\n",
      "tensor([3., 3., 3., 3.])\n",
      "tensor(12., grad_fn=<SumBackward0>)\n",
      "tensor([3., 3., 3., 3.])\n",
      "tensor(12., grad_fn=<SumBackward0>)\n",
      "tensor([3., 3., 3., 3.])\n"
     ]
    }
   ],
   "source": [
    "weights = torch.ones(4, requires_grad=True)\n",
    "print(weights)\n",
    "\n",
    "for epoch in range(3):\n",
    "    model_output = (weights*3).sum()\n",
    "    print(model_output)\n",
    "    \n",
    "    model_output.backward()\n",
    "    \n",
    "    print(weights.grad)\n",
    "    \n",
    "    weights.grad.zero_()"
   ]
  },
  {
   "cell_type": "code",
   "execution_count": 29,
   "id": "824e2326",
   "metadata": {
    "ExecuteTime": {
     "end_time": "2023-07-07T22:54:30.645688Z",
     "start_time": "2023-07-07T22:54:30.642911Z"
    }
   },
   "outputs": [],
   "source": [
    "weights = torch.ones(4, requires_grad=True)\n",
    "\n",
    "# optimizer = torch.optim.SGD(weights, lr=0.01)\n",
    "# optimizer.step() # an optimization step\n",
    "# optimizer.zero_grad()"
   ]
  },
  {
   "cell_type": "code",
   "execution_count": 15,
   "id": "bd3512a9",
   "metadata": {
    "ExecuteTime": {
     "end_time": "2023-07-09T02:56:22.498243Z",
     "start_time": "2023-07-09T02:56:22.490718Z"
    }
   },
   "outputs": [
    {
     "name": "stdout",
     "output_type": "stream",
     "text": [
      "x =  tensor([2., 2., 2.], requires_grad=True)\n",
      "y =  tensor([6., 6., 6.], grad_fn=<AddBackward0>)\n",
      "tensor([5., 5., 5.])\n"
     ]
    }
   ],
   "source": [
    "x = torch.ones(3) * 2\n",
    "x.requires_grad_(True)\n",
    "print(\"x = \", x)\n",
    "\n",
    "y = x*x + x\n",
    "print(\"y = \", y)\n",
    "\n",
    "v = torch.tensor([1, 1, 1], dtype=torch.float32)\n",
    "y.backward(v)\n",
    "\n",
    "print(x.grad)"
   ]
  },
  {
   "cell_type": "code",
   "execution_count": null,
   "id": "e328e904",
   "metadata": {},
   "outputs": [],
   "source": []
  }
 ],
 "metadata": {
  "kernelspec": {
   "display_name": "pytorch1",
   "language": "python",
   "name": "pytorch1"
  },
  "language_info": {
   "codemirror_mode": {
    "name": "ipython",
    "version": 3
   },
   "file_extension": ".py",
   "mimetype": "text/x-python",
   "name": "python",
   "nbconvert_exporter": "python",
   "pygments_lexer": "ipython3",
   "version": "3.11.4"
  }
 },
 "nbformat": 4,
 "nbformat_minor": 5
}
