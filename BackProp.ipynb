{
 "cells": [
  {
   "cell_type": "code",
   "execution_count": 1,
   "id": "cc768253",
   "metadata": {
    "ExecuteTime": {
     "end_time": "2023-07-09T03:24:14.391210Z",
     "start_time": "2023-07-09T03:24:12.532193Z"
    }
   },
   "outputs": [],
   "source": [
    "import torch"
   ]
  },
  {
   "cell_type": "code",
   "execution_count": 2,
   "id": "d9e67bdc",
   "metadata": {
    "ExecuteTime": {
     "end_time": "2023-07-09T03:25:35.305258Z",
     "start_time": "2023-07-09T03:25:35.300394Z"
    }
   },
   "outputs": [],
   "source": [
    "x = torch.tensor(1.0)\n",
    "y = torch.tensor(2.0)\n",
    "\n",
    "w = torch.tensor(1.0, requires_grad=True)"
   ]
  },
  {
   "cell_type": "code",
   "execution_count": 3,
   "id": "7102ac70",
   "metadata": {
    "ExecuteTime": {
     "end_time": "2023-07-09T03:26:28.019767Z",
     "start_time": "2023-07-09T03:26:28.010348Z"
    }
   },
   "outputs": [
    {
     "name": "stdout",
     "output_type": "stream",
     "text": [
      "tensor(1., grad_fn=<PowBackward0>)\n"
     ]
    }
   ],
   "source": [
    "# forward pass: compute loss\n",
    "y_hat = w*x\n",
    "loss = (y_hat-y)**2\n",
    "\n",
    "print(loss)"
   ]
  },
  {
   "cell_type": "code",
   "execution_count": 5,
   "id": "79c79266",
   "metadata": {
    "ExecuteTime": {
     "end_time": "2023-07-09T03:27:04.045969Z",
     "start_time": "2023-07-09T03:27:04.017441Z"
    }
   },
   "outputs": [
    {
     "name": "stdout",
     "output_type": "stream",
     "text": [
      "tensor(-2.)\n"
     ]
    }
   ],
   "source": [
    "# backward pass\n",
    "loss.backward()\n",
    "print(w.grad)"
   ]
  },
  {
   "cell_type": "code",
   "execution_count": 6,
   "id": "e841b908",
   "metadata": {
    "ExecuteTime": {
     "end_time": "2023-07-09T03:27:48.781499Z",
     "start_time": "2023-07-09T03:27:48.778510Z"
    }
   },
   "outputs": [],
   "source": [
    "### update weights\n",
    "### next forward and backward passes"
   ]
  }
 ],
 "metadata": {
  "kernelspec": {
   "display_name": "pytorch1",
   "language": "python",
   "name": "pytorch1"
  },
  "language_info": {
   "codemirror_mode": {
    "name": "ipython",
    "version": 3
   },
   "file_extension": ".py",
   "mimetype": "text/x-python",
   "name": "python",
   "nbconvert_exporter": "python",
   "pygments_lexer": "ipython3",
   "version": "3.11.4"
  }
 },
 "nbformat": 4,
 "nbformat_minor": 5
}
