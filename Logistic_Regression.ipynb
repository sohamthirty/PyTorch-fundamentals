{
 "cells": [
  {
   "cell_type": "code",
   "execution_count": 51,
   "id": "b24d2d5f",
   "metadata": {
    "ExecuteTime": {
     "end_time": "2023-07-11T03:24:31.041310Z",
     "start_time": "2023-07-11T03:24:31.037839Z"
    }
   },
   "outputs": [],
   "source": [
    "# Pipeline:\n",
    "\n",
    "# 1) Design Model (input, output size, forward pass)\n",
    "# 2) Construct loss and optimizer\n",
    "# 3) Training Loop\n",
    "#     - forward pass  : compute prediction\n",
    "#     - backward pass : gradients\n",
    "#     - update weights"
   ]
  },
  {
   "cell_type": "code",
   "execution_count": 52,
   "id": "4e5f0313",
   "metadata": {
    "ExecuteTime": {
     "end_time": "2023-07-11T03:24:31.047809Z",
     "start_time": "2023-07-11T03:24:31.042822Z"
    }
   },
   "outputs": [],
   "source": [
    "import torch\n",
    "import torch.nn as nn\n",
    "\n",
    "import numpy as np\n",
    "import matplotlib.pyplot as plt\n",
    "\n",
    "from sklearn import datasets\n",
    "from sklearn.preprocessing import StandardScaler\n",
    "from sklearn.model_selection import train_test_split"
   ]
  },
  {
   "cell_type": "code",
   "execution_count": 53,
   "id": "3aa89d94",
   "metadata": {
    "ExecuteTime": {
     "end_time": "2023-07-11T03:24:31.070451Z",
     "start_time": "2023-07-11T03:24:31.049816Z"
    }
   },
   "outputs": [],
   "source": [
    "# prepare data\n",
    "bc = datasets.load_breast_cancer()\n",
    "\n",
    "X, y = bc.data, bc.target\n",
    "\n",
    "n_samples, n_features = X.shape # 569 30\n",
    "\n",
    "X_train, X_test, y_train, y_test = train_test_split(X, y, test_size=0.2, random_state=42)\n",
    "\n",
    "# scale \n",
    "sc = StandardScaler() # zero mean, unit variance\n",
    "X_train = sc.fit_transform(X_train)\n",
    "X_test = sc.transform(X_test)\n",
    "\n",
    "X_train = torch.from_numpy(X_train.astype(np.float32))\n",
    "X_test = torch.from_numpy(X_test.astype(np.float32))\n",
    "y_train = torch.from_numpy(y_train.astype(np.float32))\n",
    "y_test = torch.from_numpy(y_test.astype(np.float32))\n",
    "\n",
    "y_train = y_train.view(y_train.shape[0], 1) # [100, 1]\n",
    "y_test = y_test.view(y_test.shape[0], 1)"
   ]
  },
  {
   "cell_type": "code",
   "execution_count": 54,
   "id": "b9a3a4b4",
   "metadata": {
    "ExecuteTime": {
     "end_time": "2023-07-11T03:24:31.079257Z",
     "start_time": "2023-07-11T03:24:31.072968Z"
    }
   },
   "outputs": [],
   "source": [
    "# 1) Model\n",
    "# f = wx + b, signoid at end\n",
    "class LogisticRegression(nn.Module):\n",
    "    \n",
    "    def __init__(self, n_input_features):\n",
    "        super(LogisticRegression, self).__init__()\n",
    "        self.linear = nn.Linear(n_input_features, 1)\n",
    "        \n",
    "    def forward(self, x):\n",
    "        y_pred = torch.sigmoid(self.linear(x))\n",
    "        return y_pred\n",
    "    \n",
    "model = LogisticRegression(n_features)"
   ]
  },
  {
   "cell_type": "code",
   "execution_count": 55,
   "id": "77a344bc",
   "metadata": {
    "ExecuteTime": {
     "end_time": "2023-07-11T03:24:31.087220Z",
     "start_time": "2023-07-11T03:24:31.082772Z"
    }
   },
   "outputs": [],
   "source": [
    "# 2) Loss and Optimizer\n",
    "learning_rate = 0.01\n",
    "\n",
    "criterion = nn.BCELoss()\n",
    "optimizer = torch.optim.SGD(model.parameters(), lr=learning_rate)"
   ]
  },
  {
   "cell_type": "code",
   "execution_count": 56,
   "id": "49cdc34d",
   "metadata": {
    "ExecuteTime": {
     "end_time": "2023-07-11T03:24:31.124575Z",
     "start_time": "2023-07-11T03:24:31.089125Z"
    }
   },
   "outputs": [
    {
     "name": "stdout",
     "output_type": "stream",
     "text": [
      "Epoch 49: w = -0.168, loss = 0.3084\n",
      "Epoch 99: w = -0.210, loss = 0.2409\n"
     ]
    }
   ],
   "source": [
    "# 3) training loop\n",
    "num_epochs = 100\n",
    "for epoch in range(num_epochs):\n",
    "    # forward pass\n",
    "    y_pred = model(X_train)\n",
    "    \n",
    "    # loss\n",
    "    loss = criterion(y_pred, y_train) \n",
    "    \n",
    "    # backward pass\n",
    "    loss.backward()\n",
    "    \n",
    "    # update\n",
    "    optimizer.step()\n",
    "    \n",
    "    # zero gradient\n",
    "    optimizer.zero_grad()\n",
    "    \n",
    "    if (epoch+1)%50 == 0:\n",
    "        [w,b] = model.parameters()\n",
    "        print('Epoch {}: w = {:.3f}, loss = {:.4f}'.format(epoch, w[0][0].item(), loss))"
   ]
  },
  {
   "cell_type": "code",
   "execution_count": 57,
   "id": "9024ca42",
   "metadata": {
    "ExecuteTime": {
     "end_time": "2023-07-11T03:24:31.132245Z",
     "start_time": "2023-07-11T03:24:31.126583Z"
    }
   },
   "outputs": [
    {
     "name": "stdout",
     "output_type": "stream",
     "text": [
      "Accuracy = 0.9649\n"
     ]
    }
   ],
   "source": [
    "# accuracy\n",
    "\n",
    "with torch.no_grad():\n",
    "    y_pred = model(X_test)\n",
    "    y_pred_cls = y_pred.round() # dont want to track this\n",
    "    acc = y_pred_cls.eq(y_test).sum() / float(y_test.shape[0])\n",
    "    print(\"Accuracy = {:.4f}\".format(acc))"
   ]
  }
 ],
 "metadata": {
  "kernelspec": {
   "display_name": "pytorch1",
   "language": "python",
   "name": "pytorch1"
  },
  "language_info": {
   "codemirror_mode": {
    "name": "ipython",
    "version": 3
   },
   "file_extension": ".py",
   "mimetype": "text/x-python",
   "name": "python",
   "nbconvert_exporter": "python",
   "pygments_lexer": "ipython3",
   "version": "3.11.4"
  }
 },
 "nbformat": 4,
 "nbformat_minor": 5
}
