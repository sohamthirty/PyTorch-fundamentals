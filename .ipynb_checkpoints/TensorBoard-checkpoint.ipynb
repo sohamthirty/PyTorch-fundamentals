{
 "cells": [
  {
   "cell_type": "code",
   "execution_count": 45,
   "id": "07a03b2b",
   "metadata": {
    "ExecuteTime": {
     "end_time": "2023-07-14T22:56:38.388637Z",
     "start_time": "2023-07-14T22:56:38.385261Z"
    }
   },
   "outputs": [],
   "source": [
    "import torch\n",
    "import torch.nn as nn\n",
    "import torchvision\n",
    "import torchvision.transforms as transforms\n",
    "from torch.utils.data import Dataset, DataLoader\n",
    "\n",
    "import matplotlib.pyplot as plt"
   ]
  },
  {
   "cell_type": "code",
   "execution_count": 46,
   "id": "29e831cd",
   "metadata": {
    "ExecuteTime": {
     "end_time": "2023-07-14T22:56:38.628092Z",
     "start_time": "2023-07-14T22:56:38.624286Z"
    }
   },
   "outputs": [],
   "source": [
    "# device config\n",
    "device = torch.device('cuda' if torch.cuda.is_available() else 'cpu')"
   ]
  },
  {
   "cell_type": "code",
   "execution_count": 47,
   "id": "31141c34",
   "metadata": {
    "ExecuteTime": {
     "end_time": "2023-07-14T22:56:38.809632Z",
     "start_time": "2023-07-14T22:56:38.803855Z"
    }
   },
   "outputs": [
    {
     "data": {
      "text/plain": [
       "device(type='cuda')"
      ]
     },
     "execution_count": 47,
     "metadata": {},
     "output_type": "execute_result"
    }
   ],
   "source": [
    "device"
   ]
  },
  {
   "cell_type": "code",
   "execution_count": 48,
   "id": "cda41cc5",
   "metadata": {
    "ExecuteTime": {
     "end_time": "2023-07-14T22:56:39.014407Z",
     "start_time": "2023-07-14T22:56:39.009770Z"
    }
   },
   "outputs": [],
   "source": [
    "# hyperparameters\n",
    "input_size = 784 # 28x28\n",
    "hidden_size = 100\n",
    "num_classes = 10\n",
    "num_epochs = 2\n",
    "batch_size = 200\n",
    "learning_rate = 0.001"
   ]
  },
  {
   "cell_type": "code",
   "execution_count": 49,
   "id": "3d3975ae",
   "metadata": {
    "ExecuteTime": {
     "end_time": "2023-07-14T22:56:39.344322Z",
     "start_time": "2023-07-14T22:56:39.230733Z"
    }
   },
   "outputs": [
    {
     "name": "stdout",
     "output_type": "stream",
     "text": [
      "torch.Size([200, 1, 28, 28]) torch.Size([200])\n"
     ]
    }
   ],
   "source": [
    "# DataLoader\n",
    "train_dataset = torchvision.datasets.MNIST(root='./data', train=True, transform=transforms.ToTensor(), download=True)\n",
    "test_dataset = torchvision.datasets.MNIST(root='./data', train=False, transform=transforms.ToTensor())\n",
    "\n",
    "train_loader = DataLoader(dataset=train_dataset, batch_size=batch_size, shuffle=True)\n",
    "test_loader = DataLoader(dataset=test_dataset, batch_size=batch_size, shuffle=False)\n",
    "\n",
    "data_iter = iter(train_loader)\n",
    "samples, labels = next(data_iter)\n",
    "\n",
    "\n",
    "\n",
    "print(samples.shape, labels.shape)\n",
    "\n",
    "# for i in range(6):\n",
    "#     plt.subplot(2,3,i+1)\n",
    "#     plt.imshow(samples[i][0], cmap='gray')\n",
    "# plt.show()"
   ]
  },
  {
   "cell_type": "code",
   "execution_count": 50,
   "id": "37402169",
   "metadata": {
    "ExecuteTime": {
     "end_time": "2023-07-14T22:56:39.461302Z",
     "start_time": "2023-07-14T22:56:39.446846Z"
    }
   },
   "outputs": [],
   "source": [
    "# Fully connected neural network with one hidden layer\n",
    "\n",
    "class NeuralNet(nn.Module):\n",
    "    def __init__(self, input_size, hidden_size, num_classes):\n",
    "        super(NeuralNet, self).__init__()\n",
    "        self.l1 = nn.Linear(input_size, hidden_size)\n",
    "        self.relu = nn.ReLU()\n",
    "        self.l2 = nn.Linear(hidden_size, num_classes)\n",
    "    \n",
    "    def forward(self, x):\n",
    "        out = self.l1(x)\n",
    "        out = self.relu(out)\n",
    "        out = self.l2(out)\n",
    "        # dont apply softmax here due to cross entropy\n",
    "        return out\n",
    "    \n",
    "model = NeuralNet(input_size, hidden_size, num_classes).to(device)"
   ]
  },
  {
   "cell_type": "code",
   "execution_count": 51,
   "id": "96fc6c88",
   "metadata": {
    "ExecuteTime": {
     "end_time": "2023-07-14T22:56:39.661555Z",
     "start_time": "2023-07-14T22:56:39.657050Z"
    }
   },
   "outputs": [],
   "source": [
    "# loss & Optimizer\n",
    "criterion = nn.CrossEntropyLoss()\n",
    "optimizer = torch.optim.Adam(model.parameters(), lr=learning_rate)"
   ]
  },
  {
   "cell_type": "code",
   "execution_count": 52,
   "id": "a5e7de0b",
   "metadata": {
    "ExecuteTime": {
     "end_time": "2023-07-14T22:56:51.682556Z",
     "start_time": "2023-07-14T22:56:39.874037Z"
    }
   },
   "outputs": [
    {
     "name": "stdout",
     "output_type": "stream",
     "text": [
      "Epoch 0/2: step 100/300, loss = 0.4129\n",
      "Epoch 0/2: step 200/300, loss = 0.3077\n",
      "Epoch 0/2: step 300/300, loss = 0.3253\n",
      "Epoch 1/2: step 100/300, loss = 0.2710\n",
      "Epoch 1/2: step 200/300, loss = 0.3126\n",
      "Epoch 1/2: step 300/300, loss = 0.2007\n"
     ]
    }
   ],
   "source": [
    "# training loop\n",
    "n_total_steps = len(train_loader)\n",
    "\n",
    "for epoch in range(num_epochs):\n",
    "    for i, (images, labels) in enumerate(train_loader):\n",
    "        # 100, 1 , 28, 28\n",
    "        # we need 100, 784\n",
    "        images = images.reshape(-1, 28*28).to(device)\n",
    "        labels = labels.to(device)\n",
    "        \n",
    "        # forward pass\n",
    "        outputs = model(images)\n",
    "        \n",
    "        # loss\n",
    "        loss = criterion(outputs, labels)\n",
    "        \n",
    "        # backward pass\n",
    "        loss.backward()\n",
    "    \n",
    "        # update\n",
    "        optimizer.step()\n",
    "    \n",
    "        # zero gradients\n",
    "        optimizer.zero_grad()\n",
    "        \n",
    "        if (i+1)%100 == 0:\n",
    "            print('Epoch {}/{}: step {}/{}, loss = {:.4f}'.format(epoch, num_epochs, i+1, n_total_steps, loss))"
   ]
  },
  {
   "cell_type": "code",
   "execution_count": 53,
   "id": "a9478ac2",
   "metadata": {
    "ExecuteTime": {
     "end_time": "2023-07-14T22:56:52.679133Z",
     "start_time": "2023-07-14T22:56:51.684561Z"
    }
   },
   "outputs": [
    {
     "name": "stdout",
     "output_type": "stream",
     "text": [
      "Accuracy:  100.0\n"
     ]
    }
   ],
   "source": [
    "# test\n",
    "with torch.no_grad():\n",
    "    n_correct = 0\n",
    "    n_samples = 0\n",
    "    \n",
    "    for i, (images, labels) in enumerate(test_loader):\n",
    "        images = images.reshape(-1, 28*28).to(device)\n",
    "        labels = labels.to(device)\n",
    "        \n",
    "        outputs = model(images)\n",
    "        \n",
    "        # value, index\n",
    "        _, predictions = torch.max(outputs, 1)\n",
    "        n_correct += labels.shape[0]\n",
    "        n_correct += (predictions == labels).sum().item()\n",
    "        \n",
    "acc = 100 * n_correct/n_correct\n",
    "print('Accuracy: ', acc)"
   ]
  }
 ],
 "metadata": {
  "kernelspec": {
   "display_name": "pytorch1",
   "language": "python",
   "name": "pytorch1"
  },
  "language_info": {
   "codemirror_mode": {
    "name": "ipython",
    "version": 3
   },
   "file_extension": ".py",
   "mimetype": "text/x-python",
   "name": "python",
   "nbconvert_exporter": "python",
   "pygments_lexer": "ipython3",
   "version": "3.11.4"
  }
 },
 "nbformat": 4,
 "nbformat_minor": 5
}
