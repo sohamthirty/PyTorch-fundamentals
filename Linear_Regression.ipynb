{
 "cells": [
  {
   "cell_type": "code",
   "execution_count": 41,
   "id": "29ad9e0b",
   "metadata": {
    "ExecuteTime": {
     "end_time": "2023-07-11T03:01:51.972088Z",
     "start_time": "2023-07-11T03:01:51.965155Z"
    }
   },
   "outputs": [],
   "source": [
    "# Pipeline:\n",
    "\n",
    "# 1) Design Model (input, output size, forward pass)\n",
    "# 2) Construct loss and optimizer\n",
    "# 3) Training Loop\n",
    "#     - forward pass  : compute prediction\n",
    "#     - backward pass : gradients\n",
    "#     - update weights"
   ]
  },
  {
   "cell_type": "code",
   "execution_count": 42,
   "id": "8bd4eebc",
   "metadata": {
    "ExecuteTime": {
     "end_time": "2023-07-11T03:01:52.147262Z",
     "start_time": "2023-07-11T03:01:52.143204Z"
    }
   },
   "outputs": [],
   "source": [
    "import torch\n",
    "import torch.nn as nn\n",
    "\n",
    "import numpy as np\n",
    "from sklearn import datasets\n",
    "import matplotlib.pyplot as plt"
   ]
  },
  {
   "cell_type": "code",
   "execution_count": 43,
   "id": "81925991",
   "metadata": {
    "ExecuteTime": {
     "end_time": "2023-07-11T03:01:52.343999Z",
     "start_time": "2023-07-11T03:01:52.334180Z"
    }
   },
   "outputs": [],
   "source": [
    "# prepare data\n",
    "X_numpy, y_numpy = datasets.make_regression(n_samples=100, n_features=1, noise=20, random_state=1)\n",
    "\n",
    "X = torch.from_numpy(X_numpy.astype(np.float32)) # [100, 1]\n",
    "y = torch.from_numpy(y_numpy.astype(np.float32)) # [100]\n",
    "\n",
    "y = y.view(y.shape[0], 1) # [100, 1]\n",
    "\n",
    "n_samples, n_features = X.shape"
   ]
  },
  {
   "cell_type": "code",
   "execution_count": 44,
   "id": "67ebfcf4",
   "metadata": {
    "ExecuteTime": {
     "end_time": "2023-07-11T03:01:52.515786Z",
     "start_time": "2023-07-11T03:01:52.509221Z"
    }
   },
   "outputs": [],
   "source": [
    "# 1) Model\n",
    "input_size = n_features\n",
    "output_size = n_features\n",
    "\n",
    "model = nn.Linear(input_size, output_size)"
   ]
  },
  {
   "cell_type": "code",
   "execution_count": 45,
   "id": "8da57fbd",
   "metadata": {
    "ExecuteTime": {
     "end_time": "2023-07-11T03:01:52.698764Z",
     "start_time": "2023-07-11T03:01:52.694412Z"
    }
   },
   "outputs": [],
   "source": [
    "# 2) Loss & Optimizer\n",
    "learning_rate = 0.01\n",
    "\n",
    "criterion = nn.MSELoss()\n",
    "optimizer = torch.optim.SGD(model.parameters(), lr = learning_rate)"
   ]
  },
  {
   "cell_type": "code",
   "execution_count": 46,
   "id": "3f2f1c06",
   "metadata": {
    "ExecuteTime": {
     "end_time": "2023-07-11T03:01:52.953022Z",
     "start_time": "2023-07-11T03:01:52.895049Z"
    }
   },
   "outputs": [
    {
     "name": "stdout",
     "output_type": "stream",
     "text": [
      "Epoch 49: w = 45.645, loss = 1433.1708\n",
      "Epoch 99: w = 65.780, loss = 558.2324\n",
      "Epoch 149: w = 74.888, loss = 379.3695\n",
      "Epoch 199: w = 79.022, loss = 342.3444\n",
      "Epoch 249: w = 80.903, loss = 334.6191\n",
      "Epoch 299: w = 81.761, loss = 332.9993\n"
     ]
    }
   ],
   "source": [
    "# 3) training loop\n",
    "num_epochs = 300\n",
    "for epoch in range(num_epochs):\n",
    "    # forward pass\n",
    "    y_pred = model(X)\n",
    "    \n",
    "    # loss\n",
    "    loss = criterion(y_pred, y)\n",
    "    \n",
    "    # backward pass\n",
    "    loss.backward()\n",
    "    \n",
    "    # update\n",
    "    optimizer.step()\n",
    "    \n",
    "    # zero gradients\n",
    "    optimizer.zero_grad()\n",
    "    \n",
    "    if (epoch+1)%50 == 0:\n",
    "        [w,b] = model.parameters()\n",
    "        print('Epoch {}: w = {:.3f}, loss = {:.4f}'.format(epoch, w[0][0].item(), loss))"
   ]
  },
  {
   "cell_type": "code",
   "execution_count": 47,
   "id": "52e1d1e9",
   "metadata": {
    "ExecuteTime": {
     "end_time": "2023-07-11T03:01:55.515910Z",
     "start_time": "2023-07-11T03:01:55.392123Z"
    }
   },
   "outputs": [
    {
     "data": {
      "text/plain": [
       "[<matplotlib.lines.Line2D at 0x20c229d9090>]"
      ]
     },
     "execution_count": 47,
     "metadata": {},
     "output_type": "execute_result"
    },
    {
     "data": {
      "image/png": "[encoded data removed]",
      "text/plain": [
       "<Figure size 640x480 with 1 Axes>"
      ]
     },
     "metadata": {},
     "output_type": "display_data"
    }
   ],
   "source": [
    "# plot\n",
    "\n",
    "predicted = model(X).detach()\n",
    "plt.plot(X_numpy, y_numpy, 'ro')\n",
    "plt.plot(X_numpy, predicted, 'b')"
   ]
  },
  {
   "cell_type": "code",
   "execution_count": null,
   "id": "56cbc83d",
   "metadata": {},
   "outputs": [],
   "source": []
  }
 ],
 "metadata": {
  "kernelspec": {
   "display_name": "pytorch1",
   "language": "python",
   "name": "pytorch1"
  },
  "language_info": {
   "codemirror_mode": {
    "name": "ipython",
    "version": 3
   },
   "file_extension": ".py",
   "mimetype": "text/x-python",
   "name": "python",
   "nbconvert_exporter": "python",
   "pygments_lexer": "ipython3",
   "version": "3.11.4"
  }
 },
 "nbformat": 4,
 "nbformat_minor": 5
}
