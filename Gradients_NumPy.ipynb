{
 "cells": [
  {
   "cell_type": "code",
   "execution_count": 11,
   "id": "aa596e94",
   "metadata": {
    "ExecuteTime": {
     "end_time": "2023-07-10T19:34:36.383347Z",
     "start_time": "2023-07-10T19:34:36.380350Z"
    }
   },
   "outputs": [],
   "source": [
    "import numpy as np"
   ]
  },
  {
   "cell_type": "code",
   "execution_count": 12,
   "id": "2663cc3d",
   "metadata": {
    "ExecuteTime": {
     "end_time": "2023-07-10T19:34:36.617073Z",
     "start_time": "2023-07-10T19:34:36.613852Z"
    }
   },
   "outputs": [],
   "source": [
    "# f = w*x\n",
    "# y = 2*x\n",
    "\n",
    "X = np.array([1,2,3,4], dtype=np.float32)\n",
    "Y = np.array([2,4,6,8], dtype=np.float32)\n",
    "\n",
    "w = 0.0"
   ]
  },
  {
   "cell_type": "code",
   "execution_count": 13,
   "id": "f075a33a",
   "metadata": {
    "ExecuteTime": {
     "end_time": "2023-07-10T19:34:36.751773Z",
     "start_time": "2023-07-10T19:34:36.748196Z"
    }
   },
   "outputs": [
    {
     "name": "stdout",
     "output_type": "stream",
     "text": [
      "Prediction before training : f(20) = 0.000\n"
     ]
    }
   ],
   "source": [
    "# model prediction\n",
    "def forward(x):\n",
    "    return w*x\n",
    "\n",
    "# loss MSE\n",
    "def loss(y, y_pred):\n",
    "    return ((y_pred - y)**2).mean()\n",
    "\n",
    "# gradient\n",
    "# MSE = 1/N * (w*x - y)**2\n",
    "# dJ/dw = 1/N * 2x *(w*x - y)\n",
    "def gradient(x, y, y_pred):\n",
    "    return np.dot(2*x, y_pred-y).mean()\n",
    "\n",
    "print('Prediction before training : f(20) = {:.3f}'.format(forward(5)))"
   ]
  },
  {
   "cell_type": "code",
   "execution_count": 14,
   "id": "5bb74ce5",
   "metadata": {
    "ExecuteTime": {
     "end_time": "2023-07-10T19:34:37.511894Z",
     "start_time": "2023-07-10T19:34:37.506481Z"
    }
   },
   "outputs": [
    {
     "name": "stdout",
     "output_type": "stream",
     "text": [
      "Epoch 1: w = 1.200, loss = 30.00000000\n",
      "Epoch 6: w = 1.992, loss = 0.00314570\n",
      "Epoch 11: w = 2.000, loss = 0.00000033\n",
      "Epoch 16: w = 2.000, loss = 0.00000000\n",
      "Prediction after training : f(20) = 10.000\n"
     ]
    }
   ],
   "source": [
    "# Training\n",
    "learning_rate = 0.01\n",
    "n_iters = 20\n",
    "\n",
    "for epoch in range(n_iters):\n",
    "    # prediction = forward pass\n",
    "    y_pred = forward(X)\n",
    "    \n",
    "    # loss\n",
    "    l = loss(Y, y_pred)\n",
    "    \n",
    "    # gradients\n",
    "    dw = gradient(X, Y, y_pred)\n",
    "    \n",
    "    # update weights\n",
    "    w -= learning_rate*dw\n",
    "    \n",
    "    if epoch%5 == 0:\n",
    "        print('Epoch {}: w = {:.3f}, loss = {:.8f}'.format(epoch+1, w, l))\n",
    "        \n",
    "print('Prediction after training : f(20) = {:.3f}'.format(forward(5)))"
   ]
  }
 ],
 "metadata": {
  "kernelspec": {
   "display_name": "pytorch1",
   "language": "python",
   "name": "pytorch1"
  },
  "language_info": {
   "codemirror_mode": {
    "name": "ipython",
    "version": 3
   },
   "file_extension": ".py",
   "mimetype": "text/x-python",
   "name": "python",
   "nbconvert_exporter": "python",
   "pygments_lexer": "ipython3",
   "version": "3.11.4"
  }
 },
 "nbformat": 4,
 "nbformat_minor": 5
}
