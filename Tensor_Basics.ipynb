{
 "cells": [
  {
   "cell_type": "code",
   "execution_count": 1,
   "id": "f1fea6c6",
   "metadata": {
    "ExecuteTime": {
     "end_time": "2023-07-07T20:43:50.782879Z",
     "start_time": "2023-07-07T20:43:49.062578Z"
    }
   },
   "outputs": [],
   "source": [
    "import torch"
   ]
  },
  {
   "cell_type": "markdown",
   "id": "bd704377",
   "metadata": {},
   "source": [
    "# Basic Operations"
   ]
  },
  {
   "cell_type": "code",
   "execution_count": 3,
   "id": "7dd69acb",
   "metadata": {
    "ExecuteTime": {
     "end_time": "2023-07-07T20:44:53.670204Z",
     "start_time": "2023-07-07T20:44:53.658287Z"
    }
   },
   "outputs": [
    {
     "name": "stdout",
     "output_type": "stream",
     "text": [
      "tensor([[0.0000e+00, 7.7071e-44, 1.8754e+28],\n",
      "        [1.2870e+22, 2.5812e-09, 1.0131e-11]])\n"
     ]
    }
   ],
   "source": [
    "# Returns a tensor filled with uninitialized data.\n",
    "x = torch.empty(2, 3)\n",
    "\n",
    "print(x)"
   ]
  },
  {
   "cell_type": "code",
   "execution_count": 5,
   "id": "2d3f9b8a",
   "metadata": {
    "ExecuteTime": {
     "end_time": "2023-07-07T20:47:29.705952Z",
     "start_time": "2023-07-07T20:47:29.700618Z"
    }
   },
   "outputs": [
    {
     "name": "stdout",
     "output_type": "stream",
     "text": [
      "tensor([[0.0822, 0.6017],\n",
      "        [0.5335, 0.2787]])\n"
     ]
    }
   ],
   "source": [
    "# Returns a tensor filled with random numbers from a uniform distribution\n",
    "x = torch.rand(2, 2)\n",
    "\n",
    "print(x)"
   ]
  },
  {
   "cell_type": "code",
   "execution_count": 6,
   "id": "fa95b584",
   "metadata": {
    "ExecuteTime": {
     "end_time": "2023-07-07T20:48:51.391549Z",
     "start_time": "2023-07-07T20:48:51.380377Z"
    }
   },
   "outputs": [
    {
     "name": "stdout",
     "output_type": "stream",
     "text": [
      "tensor([[[0., 0.],\n",
      "         [0., 0.]],\n",
      "\n",
      "        [[0., 0.],\n",
      "         [0., 0.]]])\n"
     ]
    }
   ],
   "source": [
    "# Returns a tensor filled with the scalar value `0`\n",
    "x = torch.zeros(2, 2, 2)\n",
    "\n",
    "print(x)"
   ]
  },
  {
   "cell_type": "code",
   "execution_count": 9,
   "id": "97dc734e",
   "metadata": {
    "ExecuteTime": {
     "end_time": "2023-07-07T20:51:18.912897Z",
     "start_time": "2023-07-07T20:51:18.907887Z"
    }
   },
   "outputs": [
    {
     "name": "stdout",
     "output_type": "stream",
     "text": [
      "tensor([[1., 1.],\n",
      "        [1., 1.],\n",
      "        [1., 1.],\n",
      "        [1., 1.]])\n",
      "torch.float32\n"
     ]
    }
   ],
   "source": [
    "# Returns a tensor filled with the scalar value `1`\n",
    "x = torch.ones(4, 2, dtype=torch.float32)\n",
    "\n",
    "print(x)\n",
    "\n",
    "# datatype\n",
    "print(x.dtype)"
   ]
  },
  {
   "cell_type": "code",
   "execution_count": 13,
   "id": "f97e1e0e",
   "metadata": {
    "ExecuteTime": {
     "end_time": "2023-07-07T21:46:24.178268Z",
     "start_time": "2023-07-07T21:46:24.171763Z"
    }
   },
   "outputs": [
    {
     "name": "stdout",
     "output_type": "stream",
     "text": [
      "tensor([2.5000, 0.1000])\n"
     ]
    }
   ],
   "source": [
    "x = torch.tensor([2.5, 0.1])\n",
    "\n",
    "print(x)"
   ]
  },
  {
   "cell_type": "code",
   "execution_count": 19,
   "id": "418ab30a",
   "metadata": {
    "ExecuteTime": {
     "end_time": "2023-07-07T21:48:48.057991Z",
     "start_time": "2023-07-07T21:48:48.051484Z"
    }
   },
   "outputs": [
    {
     "name": "stdout",
     "output_type": "stream",
     "text": [
      "tensor([[0.5300, 0.5096],\n",
      "        [0.9670, 0.8136]])\n",
      "tensor([[0.6007, 0.1794],\n",
      "        [0.3994, 0.3037]])\n",
      "tensor([[1.1308, 0.6890],\n",
      "        [1.3664, 1.1173]])\n"
     ]
    }
   ],
   "source": [
    "x = torch.rand(2, 2)\n",
    "y = torch.rand(2, 2)\n",
    "print(x)\n",
    "print(y)\n",
    "\n",
    "z = x+y\n",
    "z = torch.add(x, y)\n",
    "print(z)"
   ]
  },
  {
   "cell_type": "code",
   "execution_count": 20,
   "id": "b0e5f4ab",
   "metadata": {
    "ExecuteTime": {
     "end_time": "2023-07-07T21:49:34.152055Z",
     "start_time": "2023-07-07T21:49:34.139370Z"
    }
   },
   "outputs": [
    {
     "name": "stdout",
     "output_type": "stream",
     "text": [
      "tensor([[0.1754, 0.4107],\n",
      "        [0.2779, 0.8296]])\n",
      "tensor([[0.6106, 0.9699],\n",
      "        [0.8039, 0.1212]])\n",
      "tensor([[0.7860, 1.3806],\n",
      "        [1.0819, 0.9507]])\n"
     ]
    }
   ],
   "source": [
    "x = torch.rand(2, 2)\n",
    "y = torch.rand(2, 2)\n",
    "print(x)\n",
    "print(y)\n",
    "\n",
    "# every function with trailing underscore will do inplace operation\n",
    "y.add_(x)\n",
    "print(y)"
   ]
  },
  {
   "cell_type": "code",
   "execution_count": 22,
   "id": "e29aacac",
   "metadata": {
    "ExecuteTime": {
     "end_time": "2023-07-07T21:51:53.655075Z",
     "start_time": "2023-07-07T21:51:53.650753Z"
    }
   },
   "outputs": [
    {
     "name": "stdout",
     "output_type": "stream",
     "text": [
      "tensor([[0.3103, 0.9905],\n",
      "        [0.5397, 0.0527]])\n",
      "tensor([[0.8154, 0.6875],\n",
      "        [0.3288, 0.0108]])\n",
      "tensor([[-0.5051,  0.3031],\n",
      "        [ 0.2109,  0.0419]])\n"
     ]
    }
   ],
   "source": [
    "x = torch.rand(2, 2)\n",
    "y = torch.rand(2, 2)\n",
    "print(x)\n",
    "print(y)\n",
    "\n",
    "z = x-y\n",
    "z = torch.sub(x, y)\n",
    "print(z)"
   ]
  },
  {
   "cell_type": "code",
   "execution_count": 24,
   "id": "c8bac250",
   "metadata": {
    "ExecuteTime": {
     "end_time": "2023-07-07T21:53:36.568372Z",
     "start_time": "2023-07-07T21:53:36.555041Z"
    }
   },
   "outputs": [
    {
     "name": "stdout",
     "output_type": "stream",
     "text": [
      "tensor([[0.6988, 0.3030],\n",
      "        [0.5994, 0.9513]])\n",
      "tensor([[0.0253, 0.4691],\n",
      "        [0.8146, 0.4600]])\n",
      "tensor([[0.0177, 0.1421],\n",
      "        [0.4883, 0.4376]])\n",
      "tensor([[27.6563,  0.6458],\n",
      "        [ 0.7359,  2.0680]])\n"
     ]
    }
   ],
   "source": [
    "x = torch.rand(2, 2)\n",
    "y = torch.rand(2, 2)\n",
    "print(x)\n",
    "print(y)\n",
    "\n",
    "# matrix multiplication\n",
    "z = x*y\n",
    "z = torch.mul(x, y)\n",
    "print(z)\n",
    "\n",
    "# Divides each element of the input input by the corresponding element of other\n",
    "z = x/y\n",
    "z = torch.div(x, y)\n",
    "print(z)"
   ]
  },
  {
   "cell_type": "code",
   "execution_count": 30,
   "id": "d214ba31",
   "metadata": {
    "ExecuteTime": {
     "end_time": "2023-07-07T21:59:51.608410Z",
     "start_time": "2023-07-07T21:59:51.602912Z"
    }
   },
   "outputs": [
    {
     "name": "stdout",
     "output_type": "stream",
     "text": [
      "tensor([[0.1029, 0.3008, 0.1006],\n",
      "        [0.1268, 0.6817, 0.1918],\n",
      "        [0.2932, 0.4439, 0.5786],\n",
      "        [0.5797, 0.4376, 0.0298],\n",
      "        [0.0157, 0.5705, 0.1521]])\n",
      "tensor([0.1029, 0.1268, 0.2932, 0.5797, 0.0157])\n",
      "tensor(0.6817)\n",
      "0.6816670298576355\n"
     ]
    }
   ],
   "source": [
    "x = torch.rand(5, 3)\n",
    "print(x)\n",
    "\n",
    "print(x[:, 0]) # all rows, 0th column\n",
    "\n",
    "print(x[1, 1])\n",
    "print(x[1, 1].item()) # to get the value of the tensor"
   ]
  },
  {
   "cell_type": "code",
   "execution_count": 40,
   "id": "da1872ea",
   "metadata": {
    "ExecuteTime": {
     "end_time": "2023-07-07T22:05:14.582779Z",
     "start_time": "2023-07-07T22:05:14.577229Z"
    }
   },
   "outputs": [
    {
     "name": "stdout",
     "output_type": "stream",
     "text": [
      "tensor([[0.2515, 0.0274, 0.6227, 0.6783],\n",
      "        [0.9882, 0.6883, 0.8471, 0.9441],\n",
      "        [0.0949, 0.9621, 0.5532, 0.5818],\n",
      "        [0.5630, 0.7276, 0.7498, 0.7415]])\n",
      "tensor([0.2515, 0.0274, 0.6227, 0.6783, 0.9882, 0.6883, 0.8471, 0.9441, 0.0949,\n",
      "        0.9621, 0.5532, 0.5818, 0.5630, 0.7276, 0.7498, 0.7415])\n",
      "torch.Size([2, 8])\n",
      "torch.Size([2, 2, 4])\n"
     ]
    }
   ],
   "source": [
    "x = torch.rand(4, 4)\n",
    "print(x)\n",
    "\n",
    "# Returns a new tensor with the same data as the self tensor but of a different shape\n",
    "y = x.view(16)\n",
    "print(y)\n",
    "\n",
    "# put -1 and Torch will automatically determine the size\n",
    "y = x.view(-1, 8)\n",
    "print(y.shape)\n",
    "\n",
    "y = x.view(-1, 2, 4)\n",
    "print(y.shape)"
   ]
  },
  {
   "cell_type": "markdown",
   "id": "f9d69002",
   "metadata": {},
   "source": [
    "# numpy to torch"
   ]
  },
  {
   "cell_type": "code",
   "execution_count": 41,
   "id": "19cb99e2",
   "metadata": {
    "ExecuteTime": {
     "end_time": "2023-07-07T22:06:40.084689Z",
     "start_time": "2023-07-07T22:06:40.081126Z"
    }
   },
   "outputs": [],
   "source": [
    "import numpy as np"
   ]
  },
  {
   "cell_type": "code",
   "execution_count": 43,
   "id": "88941a2e",
   "metadata": {
    "ExecuteTime": {
     "end_time": "2023-07-07T22:07:58.786912Z",
     "start_time": "2023-07-07T22:07:58.771306Z"
    }
   },
   "outputs": [
    {
     "name": "stdout",
     "output_type": "stream",
     "text": [
      "tensor([1., 1., 1., 1., 1.])\n",
      "[1. 1. 1. 1. 1.]\n",
      "<class 'numpy.ndarray'>\n"
     ]
    }
   ],
   "source": [
    "a = torch.ones(5)\n",
    "print(a)\n",
    "\n",
    "b = a.numpy()\n",
    "print(b)\n",
    "print(type(b))"
   ]
  },
  {
   "cell_type": "code",
   "execution_count": 44,
   "id": "d7444121",
   "metadata": {
    "ExecuteTime": {
     "end_time": "2023-07-07T22:08:33.519073Z",
     "start_time": "2023-07-07T22:08:33.514047Z"
    }
   },
   "outputs": [
    {
     "name": "stdout",
     "output_type": "stream",
     "text": [
      "tensor([2., 2., 2., 2., 2.])\n",
      "[2. 2. 2. 2. 2.]\n"
     ]
    }
   ],
   "source": [
    "a.add_(1)\n",
    "print(a)\n",
    "print(b) # they both point to same memory location"
   ]
  },
  {
   "cell_type": "code",
   "execution_count": 50,
   "id": "93454415",
   "metadata": {
    "ExecuteTime": {
     "end_time": "2023-07-07T22:11:34.552275Z",
     "start_time": "2023-07-07T22:11:34.547298Z"
    }
   },
   "outputs": [
    {
     "name": "stdout",
     "output_type": "stream",
     "text": [
      "[1. 1. 1. 1. 1.]\n",
      "tensor([1., 1., 1., 1., 1.], dtype=torch.float64)\n",
      "[2. 2. 2. 2. 2.]\n",
      "tensor([2., 2., 2., 2., 2.], dtype=torch.float64)\n"
     ]
    }
   ],
   "source": [
    "a = np.ones(5)\n",
    "print(a)\n",
    "\n",
    "b = torch.from_numpy(a)\n",
    "print(b)\n",
    "\n",
    "a += 1\n",
    "print(a)\n",
    "print(b) # happens when tensor is on GPU"
   ]
  },
  {
   "cell_type": "code",
   "execution_count": 54,
   "id": "c7b786b5",
   "metadata": {
    "ExecuteTime": {
     "end_time": "2023-07-07T22:17:11.218830Z",
     "start_time": "2023-07-07T22:17:11.210365Z"
    }
   },
   "outputs": [],
   "source": [
    "if torch.cuda.is_available():\n",
    "    device = torch.device(\"cuda\")\n",
    "    \n",
    "    x = torch.ones(5, device=device)\n",
    "    \n",
    "    y = torch.ones(5)\n",
    "    y = y.to(device) # move it to device (GPU)\n",
    "    \n",
    "    z = x+y\n",
    "    z = z.to(\"cpu\")\n",
    "    z.numpy() # error, can handle only cpu tensors (TypeError)"
   ]
  },
  {
   "cell_type": "code",
   "execution_count": 55,
   "id": "69dd6457",
   "metadata": {
    "ExecuteTime": {
     "end_time": "2023-07-07T22:17:56.495479Z",
     "start_time": "2023-07-07T22:17:56.490115Z"
    }
   },
   "outputs": [
    {
     "name": "stdout",
     "output_type": "stream",
     "text": [
      "tensor([1., 1., 1., 1., 1.], requires_grad=True)\n"
     ]
    }
   ],
   "source": [
    "x = torch.ones(5, requires_grad=True) # variable which needs to be optimized later\n",
    "print(x)"
   ]
  }
 ],
 "metadata": {
  "kernelspec": {
   "display_name": "pytorch1",
   "language": "python",
   "name": "pytorch1"
  },
  "language_info": {
   "codemirror_mode": {
    "name": "ipython",
    "version": 3
   },
   "file_extension": ".py",
   "mimetype": "text/x-python",
   "name": "python",
   "nbconvert_exporter": "python",
   "pygments_lexer": "ipython3",
   "version": "3.11.4"
  }
 },
 "nbformat": 4,
 "nbformat_minor": 5
}
